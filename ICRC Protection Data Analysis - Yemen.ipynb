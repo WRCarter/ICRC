{
 "cells": [
  {
   "cell_type": "markdown",
   "metadata": {},
   "source": [
    "## ICRC Protection Data Analysis Test - W Carter"
   ]
  },
  {
   "cell_type": "markdown",
   "metadata": {},
   "source": [
    "This page represents my technical test answers, for the ICRC Protection Data Analysis application.  It was completed on 4 April 2020."
   ]
  },
  {
   "cell_type": "code",
   "execution_count": 1,
   "metadata": {},
   "outputs": [],
   "source": [
    "#preliminaries\n",
    "\n",
    "import pandas as pd\n",
    "import numpy as np\n",
    "from matplotlib import pyplot as plt\n",
    "import seaborn as sns\n",
    "import datetime\n",
    "\n",
    "plt.style.use('fivethirtyeight')\n",
    "%matplotlib inline"
   ]
  },
  {
   "cell_type": "code",
   "execution_count": 2,
   "metadata": {},
   "outputs": [],
   "source": [
    "#load the downloaded dataset - 1x ACLED conflict dataset for Yemen from Jan-Dec 2019\n",
    "\n",
    "df = pd.read_csv('./data/Yemen.csv')"
   ]
  },
  {
   "cell_type": "code",
   "execution_count": 3,
   "metadata": {},
   "outputs": [
    {
     "name": "stdout",
     "output_type": "stream",
     "text": [
      "(11440, 31)\n"
     ]
    }
   ],
   "source": [
    "#understand the dataset\n",
    "\n",
    "print(df.shape)"
   ]
  },
  {
   "cell_type": "code",
   "execution_count": 5,
   "metadata": {},
   "outputs": [
    {
     "data": {
      "text/plain": [
       "data_id               int64\n",
       "iso                   int64\n",
       "event_id_cnty        object\n",
       "event_id_no_cnty      int64\n",
       "event_date           object\n",
       "year                  int64\n",
       "time_precision        int64\n",
       "event_type           object\n",
       "sub_event_type       object\n",
       "actor1               object\n",
       "assoc_actor_1        object\n",
       "inter1                int64\n",
       "actor2               object\n",
       "assoc_actor_2        object\n",
       "inter2                int64\n",
       "interaction           int64\n",
       "region               object\n",
       "country              object\n",
       "admin1               object\n",
       "admin2               object\n",
       "admin3              float64\n",
       "location             object\n",
       "latitude            float64\n",
       "longitude           float64\n",
       "geo_precision         int64\n",
       "source               object\n",
       "source_scale         object\n",
       "notes                object\n",
       "fatalities            int64\n",
       "timestamp             int64\n",
       "iso3                 object\n",
       "dtype: object"
      ]
     },
     "execution_count": 5,
     "metadata": {},
     "output_type": "execute_result"
    }
   ],
   "source": [
    "df.dtypes"
   ]
  },
  {
   "cell_type": "code",
   "execution_count": 6,
   "metadata": {},
   "outputs": [
    {
     "data": {
      "text/html": [
       "<div>\n",
       "<style scoped>\n",
       "    .dataframe tbody tr th:only-of-type {\n",
       "        vertical-align: middle;\n",
       "    }\n",
       "\n",
       "    .dataframe tbody tr th {\n",
       "        vertical-align: top;\n",
       "    }\n",
       "\n",
       "    .dataframe thead th {\n",
       "        text-align: right;\n",
       "    }\n",
       "</style>\n",
       "<table border=\"1\" class=\"dataframe\">\n",
       "  <thead>\n",
       "    <tr style=\"text-align: right;\">\n",
       "      <th></th>\n",
       "      <th>data_id</th>\n",
       "      <th>iso</th>\n",
       "      <th>event_id_no_cnty</th>\n",
       "      <th>year</th>\n",
       "      <th>time_precision</th>\n",
       "      <th>inter1</th>\n",
       "      <th>inter2</th>\n",
       "      <th>interaction</th>\n",
       "      <th>admin3</th>\n",
       "      <th>latitude</th>\n",
       "      <th>longitude</th>\n",
       "      <th>geo_precision</th>\n",
       "      <th>fatalities</th>\n",
       "      <th>timestamp</th>\n",
       "    </tr>\n",
       "  </thead>\n",
       "  <tbody>\n",
       "    <tr>\n",
       "      <td>count</td>\n",
       "      <td>1.144000e+04</td>\n",
       "      <td>11440.0</td>\n",
       "      <td>11440.000000</td>\n",
       "      <td>11440.0</td>\n",
       "      <td>11440.000000</td>\n",
       "      <td>11440.000000</td>\n",
       "      <td>11440.000000</td>\n",
       "      <td>11440.000000</td>\n",
       "      <td>0.0</td>\n",
       "      <td>11440.000000</td>\n",
       "      <td>11440.000000</td>\n",
       "      <td>11440.000000</td>\n",
       "      <td>11440.000000</td>\n",
       "      <td>1.144000e+04</td>\n",
       "    </tr>\n",
       "    <tr>\n",
       "      <td>mean</td>\n",
       "      <td>6.429973e+06</td>\n",
       "      <td>887.0</td>\n",
       "      <td>36991.793444</td>\n",
       "      <td>2019.0</td>\n",
       "      <td>1.023776</td>\n",
       "      <td>2.779633</td>\n",
       "      <td>1.712762</td>\n",
       "      <td>25.765122</td>\n",
       "      <td>NaN</td>\n",
       "      <td>14.901393</td>\n",
       "      <td>44.012978</td>\n",
       "      <td>1.538724</td>\n",
       "      <td>2.262413</td>\n",
       "      <td>1.575819e+09</td>\n",
       "    </tr>\n",
       "    <tr>\n",
       "      <td>std</td>\n",
       "      <td>3.243098e+05</td>\n",
       "      <td>0.0</td>\n",
       "      <td>7117.134963</td>\n",
       "      <td>0.0</td>\n",
       "      <td>0.167656</td>\n",
       "      <td>2.522379</td>\n",
       "      <td>2.317566</td>\n",
       "      <td>22.270060</td>\n",
       "      <td>NaN</td>\n",
       "      <td>1.292734</td>\n",
       "      <td>1.349353</td>\n",
       "      <td>0.589328</td>\n",
       "      <td>4.572810</td>\n",
       "      <td>4.643572e+06</td>\n",
       "    </tr>\n",
       "    <tr>\n",
       "      <td>min</td>\n",
       "      <td>4.558355e+06</td>\n",
       "      <td>887.0</td>\n",
       "      <td>22137.000000</td>\n",
       "      <td>2019.0</td>\n",
       "      <td>1.000000</td>\n",
       "      <td>1.000000</td>\n",
       "      <td>0.000000</td>\n",
       "      <td>10.000000</td>\n",
       "      <td>NaN</td>\n",
       "      <td>12.630700</td>\n",
       "      <td>42.133300</td>\n",
       "      <td>1.000000</td>\n",
       "      <td>0.000000</td>\n",
       "      <td>1.552576e+09</td>\n",
       "    </tr>\n",
       "    <tr>\n",
       "      <td>25%</td>\n",
       "      <td>6.449512e+06</td>\n",
       "      <td>887.0</td>\n",
       "      <td>29903.750000</td>\n",
       "      <td>2019.0</td>\n",
       "      <td>1.000000</td>\n",
       "      <td>1.000000</td>\n",
       "      <td>0.000000</td>\n",
       "      <td>11.000000</td>\n",
       "      <td>NaN</td>\n",
       "      <td>13.931700</td>\n",
       "      <td>43.105500</td>\n",
       "      <td>1.000000</td>\n",
       "      <td>0.000000</td>\n",
       "      <td>1.576531e+09</td>\n",
       "    </tr>\n",
       "    <tr>\n",
       "      <td>50%</td>\n",
       "      <td>6.452948e+06</td>\n",
       "      <td>887.0</td>\n",
       "      <td>40615.500000</td>\n",
       "      <td>2019.0</td>\n",
       "      <td>1.000000</td>\n",
       "      <td>1.000000</td>\n",
       "      <td>1.000000</td>\n",
       "      <td>13.000000</td>\n",
       "      <td>NaN</td>\n",
       "      <td>14.637000</td>\n",
       "      <td>43.483100</td>\n",
       "      <td>1.000000</td>\n",
       "      <td>0.000000</td>\n",
       "      <td>1.576531e+09</td>\n",
       "    </tr>\n",
       "    <tr>\n",
       "      <td>75%</td>\n",
       "      <td>6.456288e+06</td>\n",
       "      <td>887.0</td>\n",
       "      <td>43527.250000</td>\n",
       "      <td>2019.0</td>\n",
       "      <td>1.000000</td>\n",
       "      <td>3.000000</td>\n",
       "      <td>3.000000</td>\n",
       "      <td>30.000000</td>\n",
       "      <td>NaN</td>\n",
       "      <td>16.191700</td>\n",
       "      <td>44.623500</td>\n",
       "      <td>2.000000</td>\n",
       "      <td>2.000000</td>\n",
       "      <td>1.576531e+09</td>\n",
       "    </tr>\n",
       "    <tr>\n",
       "      <td>max</td>\n",
       "      <td>7.019337e+06</td>\n",
       "      <td>887.0</td>\n",
       "      <td>50330.000000</td>\n",
       "      <td>2019.0</td>\n",
       "      <td>3.000000</td>\n",
       "      <td>8.000000</td>\n",
       "      <td>8.000000</td>\n",
       "      <td>88.000000</td>\n",
       "      <td>NaN</td>\n",
       "      <td>17.801900</td>\n",
       "      <td>54.080300</td>\n",
       "      <td>3.000000</td>\n",
       "      <td>130.000000</td>\n",
       "      <td>1.585692e+09</td>\n",
       "    </tr>\n",
       "  </tbody>\n",
       "</table>\n",
       "</div>"
      ],
      "text/plain": [
       "            data_id      iso  event_id_no_cnty     year  time_precision  \\\n",
       "count  1.144000e+04  11440.0      11440.000000  11440.0    11440.000000   \n",
       "mean   6.429973e+06    887.0      36991.793444   2019.0        1.023776   \n",
       "std    3.243098e+05      0.0       7117.134963      0.0        0.167656   \n",
       "min    4.558355e+06    887.0      22137.000000   2019.0        1.000000   \n",
       "25%    6.449512e+06    887.0      29903.750000   2019.0        1.000000   \n",
       "50%    6.452948e+06    887.0      40615.500000   2019.0        1.000000   \n",
       "75%    6.456288e+06    887.0      43527.250000   2019.0        1.000000   \n",
       "max    7.019337e+06    887.0      50330.000000   2019.0        3.000000   \n",
       "\n",
       "             inter1        inter2   interaction  admin3      latitude  \\\n",
       "count  11440.000000  11440.000000  11440.000000     0.0  11440.000000   \n",
       "mean       2.779633      1.712762     25.765122     NaN     14.901393   \n",
       "std        2.522379      2.317566     22.270060     NaN      1.292734   \n",
       "min        1.000000      0.000000     10.000000     NaN     12.630700   \n",
       "25%        1.000000      0.000000     11.000000     NaN     13.931700   \n",
       "50%        1.000000      1.000000     13.000000     NaN     14.637000   \n",
       "75%        3.000000      3.000000     30.000000     NaN     16.191700   \n",
       "max        8.000000      8.000000     88.000000     NaN     17.801900   \n",
       "\n",
       "          longitude  geo_precision    fatalities     timestamp  \n",
       "count  11440.000000   11440.000000  11440.000000  1.144000e+04  \n",
       "mean      44.012978       1.538724      2.262413  1.575819e+09  \n",
       "std        1.349353       0.589328      4.572810  4.643572e+06  \n",
       "min       42.133300       1.000000      0.000000  1.552576e+09  \n",
       "25%       43.105500       1.000000      0.000000  1.576531e+09  \n",
       "50%       43.483100       1.000000      0.000000  1.576531e+09  \n",
       "75%       44.623500       2.000000      2.000000  1.576531e+09  \n",
       "max       54.080300       3.000000    130.000000  1.585692e+09  "
      ]
     },
     "execution_count": 6,
     "metadata": {},
     "output_type": "execute_result"
    }
   ],
   "source": [
    "df.describe()"
   ]
  },
  {
   "cell_type": "code",
   "execution_count": 4,
   "metadata": {},
   "outputs": [
    {
     "data": {
      "text/plain": [
       "data_id                 0\n",
       "iso                     0\n",
       "event_id_cnty           0\n",
       "event_id_no_cnty        0\n",
       "event_date              0\n",
       "year                    0\n",
       "time_precision          0\n",
       "event_type              0\n",
       "sub_event_type          0\n",
       "actor1                  0\n",
       "assoc_actor_1        8964\n",
       "inter1                  0\n",
       "actor2               4141\n",
       "assoc_actor_2        8484\n",
       "inter2                  0\n",
       "interaction             0\n",
       "region                  0\n",
       "country                 0\n",
       "admin1                  0\n",
       "admin2                  0\n",
       "admin3              11440\n",
       "location                0\n",
       "latitude                0\n",
       "longitude               0\n",
       "geo_precision           0\n",
       "source                  0\n",
       "source_scale            0\n",
       "notes                   0\n",
       "fatalities              0\n",
       "timestamp               0\n",
       "iso3                    0\n",
       "dtype: int64"
      ]
     },
     "execution_count": 4,
     "metadata": {},
     "output_type": "execute_result"
    }
   ],
   "source": [
    "df.isnull().sum()"
   ]
  },
  {
   "cell_type": "code",
   "execution_count": 7,
   "metadata": {},
   "outputs": [
    {
     "name": "stdout",
     "output_type": "stream",
     "text": [
      "<class 'pandas.core.frame.DataFrame'>\n",
      "RangeIndex: 11440 entries, 0 to 11439\n",
      "Data columns (total 31 columns):\n",
      "data_id             11440 non-null int64\n",
      "iso                 11440 non-null int64\n",
      "event_id_cnty       11440 non-null object\n",
      "event_id_no_cnty    11440 non-null int64\n",
      "event_date          11440 non-null object\n",
      "year                11440 non-null int64\n",
      "time_precision      11440 non-null int64\n",
      "event_type          11440 non-null object\n",
      "sub_event_type      11440 non-null object\n",
      "actor1              11440 non-null object\n",
      "assoc_actor_1       2476 non-null object\n",
      "inter1              11440 non-null int64\n",
      "actor2              7299 non-null object\n",
      "assoc_actor_2       2956 non-null object\n",
      "inter2              11440 non-null int64\n",
      "interaction         11440 non-null int64\n",
      "region              11440 non-null object\n",
      "country             11440 non-null object\n",
      "admin1              11440 non-null object\n",
      "admin2              11440 non-null object\n",
      "admin3              0 non-null float64\n",
      "location            11440 non-null object\n",
      "latitude            11440 non-null float64\n",
      "longitude           11440 non-null float64\n",
      "geo_precision       11440 non-null int64\n",
      "source              11440 non-null object\n",
      "source_scale        11440 non-null object\n",
      "notes               11440 non-null object\n",
      "fatalities          11440 non-null int64\n",
      "timestamp           11440 non-null int64\n",
      "iso3                11440 non-null object\n",
      "dtypes: float64(3), int64(11), object(17)\n",
      "memory usage: 2.7+ MB\n"
     ]
    }
   ],
   "source": [
    "df.info()"
   ]
  },
  {
   "cell_type": "code",
   "execution_count": 8,
   "metadata": {},
   "outputs": [
    {
     "data": {
      "text/html": [
       "<div>\n",
       "<style scoped>\n",
       "    .dataframe tbody tr th:only-of-type {\n",
       "        vertical-align: middle;\n",
       "    }\n",
       "\n",
       "    .dataframe tbody tr th {\n",
       "        vertical-align: top;\n",
       "    }\n",
       "\n",
       "    .dataframe thead th {\n",
       "        text-align: right;\n",
       "    }\n",
       "</style>\n",
       "<table border=\"1\" class=\"dataframe\">\n",
       "  <thead>\n",
       "    <tr style=\"text-align: right;\">\n",
       "      <th></th>\n",
       "      <th>data_id</th>\n",
       "      <th>iso</th>\n",
       "      <th>event_id_cnty</th>\n",
       "      <th>event_id_no_cnty</th>\n",
       "      <th>event_date</th>\n",
       "      <th>year</th>\n",
       "      <th>time_precision</th>\n",
       "      <th>event_type</th>\n",
       "      <th>sub_event_type</th>\n",
       "      <th>actor1</th>\n",
       "      <th>...</th>\n",
       "      <th>location</th>\n",
       "      <th>latitude</th>\n",
       "      <th>longitude</th>\n",
       "      <th>geo_precision</th>\n",
       "      <th>source</th>\n",
       "      <th>source_scale</th>\n",
       "      <th>notes</th>\n",
       "      <th>fatalities</th>\n",
       "      <th>timestamp</th>\n",
       "      <th>iso3</th>\n",
       "    </tr>\n",
       "  </thead>\n",
       "  <tbody>\n",
       "    <tr>\n",
       "      <td>0</td>\n",
       "      <td>6768128</td>\n",
       "      <td>887</td>\n",
       "      <td>YEM45982</td>\n",
       "      <td>45982</td>\n",
       "      <td>31 December 2019</td>\n",
       "      <td>2019</td>\n",
       "      <td>1</td>\n",
       "      <td>Battles</td>\n",
       "      <td>Armed clash</td>\n",
       "      <td>Military Forces of Yemen (2012-)</td>\n",
       "      <td>...</td>\n",
       "      <td>Habban</td>\n",
       "      <td>14.3541</td>\n",
       "      <td>47.0765</td>\n",
       "      <td>2</td>\n",
       "      <td>Yemen Data Project; Aden al Ghad; Al Janoob al...</td>\n",
       "      <td>Local partner-National</td>\n",
       "      <td>On 31 December 2019, clashes reportedly erupte...</td>\n",
       "      <td>0</td>\n",
       "      <td>1580761030</td>\n",
       "      <td>YEM</td>\n",
       "    </tr>\n",
       "    <tr>\n",
       "      <td>1</td>\n",
       "      <td>6768129</td>\n",
       "      <td>887</td>\n",
       "      <td>YEM45983</td>\n",
       "      <td>45983</td>\n",
       "      <td>31 December 2019</td>\n",
       "      <td>2019</td>\n",
       "      <td>1</td>\n",
       "      <td>Strategic developments</td>\n",
       "      <td>Change to group/activity</td>\n",
       "      <td>Military Forces of Yemen (2012-) Security Belt...</td>\n",
       "      <td>...</td>\n",
       "      <td>Habban</td>\n",
       "      <td>14.3541</td>\n",
       "      <td>47.0765</td>\n",
       "      <td>2</td>\n",
       "      <td>Al Janoob al Youm; Yemen Data Project</td>\n",
       "      <td>Local partner-National</td>\n",
       "      <td>On 31 December 2019, forces loyal to the South...</td>\n",
       "      <td>0</td>\n",
       "      <td>1580761030</td>\n",
       "      <td>YEM</td>\n",
       "    </tr>\n",
       "    <tr>\n",
       "      <td>2</td>\n",
       "      <td>6768130</td>\n",
       "      <td>887</td>\n",
       "      <td>YEM45984</td>\n",
       "      <td>45984</td>\n",
       "      <td>31 December 2019</td>\n",
       "      <td>2019</td>\n",
       "      <td>1</td>\n",
       "      <td>Battles</td>\n",
       "      <td>Armed clash</td>\n",
       "      <td>Military Forces of Yemen (2012-)</td>\n",
       "      <td>...</td>\n",
       "      <td>Wadi Haburah</td>\n",
       "      <td>14.2081</td>\n",
       "      <td>47.1570</td>\n",
       "      <td>1</td>\n",
       "      <td>Al Janoob al Youm; Aden al Ghad; Yemen Data Pr...</td>\n",
       "      <td>Local partner-National</td>\n",
       "      <td>On 31 December 2019, clashes reportedly erupte...</td>\n",
       "      <td>1</td>\n",
       "      <td>1580761030</td>\n",
       "      <td>YEM</td>\n",
       "    </tr>\n",
       "    <tr>\n",
       "      <td>3</td>\n",
       "      <td>6760978</td>\n",
       "      <td>887</td>\n",
       "      <td>YEM45977</td>\n",
       "      <td>45977</td>\n",
       "      <td>31 December 2019</td>\n",
       "      <td>2019</td>\n",
       "      <td>1</td>\n",
       "      <td>Strategic developments</td>\n",
       "      <td>Change to group/activity</td>\n",
       "      <td>Operation Restoring Hope</td>\n",
       "      <td>...</td>\n",
       "      <td>Al Alam Military Camp</td>\n",
       "      <td>14.9403</td>\n",
       "      <td>46.6711</td>\n",
       "      <td>1</td>\n",
       "      <td>YNP; Yemen Data Project; Al Masdar</td>\n",
       "      <td>Local partner-National</td>\n",
       "      <td>On 31 December 2019, Sudanese forces reportedl...</td>\n",
       "      <td>0</td>\n",
       "      <td>1580153672</td>\n",
       "      <td>YEM</td>\n",
       "    </tr>\n",
       "    <tr>\n",
       "      <td>4</td>\n",
       "      <td>6760979</td>\n",
       "      <td>887</td>\n",
       "      <td>YEM45985</td>\n",
       "      <td>45985</td>\n",
       "      <td>31 December 2019</td>\n",
       "      <td>2019</td>\n",
       "      <td>1</td>\n",
       "      <td>Strategic developments</td>\n",
       "      <td>Non-violent transfer of territory</td>\n",
       "      <td>Military Forces of Yemen (2012-) Shabwani Elit...</td>\n",
       "      <td>...</td>\n",
       "      <td>Balhaf</td>\n",
       "      <td>13.9667</td>\n",
       "      <td>48.1833</td>\n",
       "      <td>1</td>\n",
       "      <td>Al Masdar; Yemen Data Project; YNP</td>\n",
       "      <td>Local partner-National</td>\n",
       "      <td>On 31 December 2019, Sudanese forces reportedl...</td>\n",
       "      <td>0</td>\n",
       "      <td>1580153672</td>\n",
       "      <td>YEM</td>\n",
       "    </tr>\n",
       "  </tbody>\n",
       "</table>\n",
       "<p>5 rows × 31 columns</p>\n",
       "</div>"
      ],
      "text/plain": [
       "   data_id  iso event_id_cnty  event_id_no_cnty        event_date  year  \\\n",
       "0  6768128  887      YEM45982             45982  31 December 2019  2019   \n",
       "1  6768129  887      YEM45983             45983  31 December 2019  2019   \n",
       "2  6768130  887      YEM45984             45984  31 December 2019  2019   \n",
       "3  6760978  887      YEM45977             45977  31 December 2019  2019   \n",
       "4  6760979  887      YEM45985             45985  31 December 2019  2019   \n",
       "\n",
       "   time_precision              event_type                     sub_event_type  \\\n",
       "0               1                 Battles                        Armed clash   \n",
       "1               1  Strategic developments           Change to group/activity   \n",
       "2               1                 Battles                        Armed clash   \n",
       "3               1  Strategic developments           Change to group/activity   \n",
       "4               1  Strategic developments  Non-violent transfer of territory   \n",
       "\n",
       "                                              actor1  ...  \\\n",
       "0                   Military Forces of Yemen (2012-)  ...   \n",
       "1  Military Forces of Yemen (2012-) Security Belt...  ...   \n",
       "2                   Military Forces of Yemen (2012-)  ...   \n",
       "3                           Operation Restoring Hope  ...   \n",
       "4  Military Forces of Yemen (2012-) Shabwani Elit...  ...   \n",
       "\n",
       "                location  latitude longitude geo_precision  \\\n",
       "0                 Habban   14.3541   47.0765             2   \n",
       "1                 Habban   14.3541   47.0765             2   \n",
       "2           Wadi Haburah   14.2081   47.1570             1   \n",
       "3  Al Alam Military Camp   14.9403   46.6711             1   \n",
       "4                 Balhaf   13.9667   48.1833             1   \n",
       "\n",
       "                                              source            source_scale  \\\n",
       "0  Yemen Data Project; Aden al Ghad; Al Janoob al...  Local partner-National   \n",
       "1              Al Janoob al Youm; Yemen Data Project  Local partner-National   \n",
       "2  Al Janoob al Youm; Aden al Ghad; Yemen Data Pr...  Local partner-National   \n",
       "3                 YNP; Yemen Data Project; Al Masdar  Local partner-National   \n",
       "4                 Al Masdar; Yemen Data Project; YNP  Local partner-National   \n",
       "\n",
       "                                               notes fatalities   timestamp  \\\n",
       "0  On 31 December 2019, clashes reportedly erupte...          0  1580761030   \n",
       "1  On 31 December 2019, forces loyal to the South...          0  1580761030   \n",
       "2  On 31 December 2019, clashes reportedly erupte...          1  1580761030   \n",
       "3  On 31 December 2019, Sudanese forces reportedl...          0  1580153672   \n",
       "4  On 31 December 2019, Sudanese forces reportedl...          0  1580153672   \n",
       "\n",
       "  iso3  \n",
       "0  YEM  \n",
       "1  YEM  \n",
       "2  YEM  \n",
       "3  YEM  \n",
       "4  YEM  \n",
       "\n",
       "[5 rows x 31 columns]"
      ]
     },
     "execution_count": 8,
     "metadata": {},
     "output_type": "execute_result"
    }
   ],
   "source": [
    "df.head()"
   ]
  },
  {
   "cell_type": "code",
   "execution_count": 9,
   "metadata": {},
   "outputs": [
    {
     "data": {
      "text/html": [
       "<div>\n",
       "<style scoped>\n",
       "    .dataframe tbody tr th:only-of-type {\n",
       "        vertical-align: middle;\n",
       "    }\n",
       "\n",
       "    .dataframe tbody tr th {\n",
       "        vertical-align: top;\n",
       "    }\n",
       "\n",
       "    .dataframe thead th {\n",
       "        text-align: right;\n",
       "    }\n",
       "</style>\n",
       "<table border=\"1\" class=\"dataframe\">\n",
       "  <thead>\n",
       "    <tr style=\"text-align: right;\">\n",
       "      <th></th>\n",
       "      <th>data_id</th>\n",
       "      <th>iso</th>\n",
       "      <th>event_id_cnty</th>\n",
       "      <th>event_id_no_cnty</th>\n",
       "      <th>event_date</th>\n",
       "      <th>year</th>\n",
       "      <th>time_precision</th>\n",
       "      <th>event_type</th>\n",
       "      <th>sub_event_type</th>\n",
       "      <th>actor1</th>\n",
       "      <th>...</th>\n",
       "      <th>location</th>\n",
       "      <th>latitude</th>\n",
       "      <th>longitude</th>\n",
       "      <th>geo_precision</th>\n",
       "      <th>source</th>\n",
       "      <th>source_scale</th>\n",
       "      <th>notes</th>\n",
       "      <th>fatalities</th>\n",
       "      <th>timestamp</th>\n",
       "      <th>iso3</th>\n",
       "    </tr>\n",
       "  </thead>\n",
       "  <tbody>\n",
       "    <tr>\n",
       "      <td>11435</td>\n",
       "      <td>6456772</td>\n",
       "      <td>887</td>\n",
       "      <td>YEM26988</td>\n",
       "      <td>26988</td>\n",
       "      <td>01 January 2019</td>\n",
       "      <td>2019</td>\n",
       "      <td>1</td>\n",
       "      <td>Explosions/Remote violence</td>\n",
       "      <td>Shelling/artillery/missile attack</td>\n",
       "      <td>National Resistance Forces</td>\n",
       "      <td>...</td>\n",
       "      <td>Al Hudaydah-Street 90</td>\n",
       "      <td>14.8355</td>\n",
       "      <td>42.9781</td>\n",
       "      <td>1</td>\n",
       "      <td>Ansar Allah; Yemen Data Project</td>\n",
       "      <td>Local partner-National</td>\n",
       "      <td>For the third consecutive day, anti-Houthi for...</td>\n",
       "      <td>0</td>\n",
       "      <td>1576530953</td>\n",
       "      <td>YEM</td>\n",
       "    </tr>\n",
       "    <tr>\n",
       "      <td>11436</td>\n",
       "      <td>5745348</td>\n",
       "      <td>887</td>\n",
       "      <td>YEM31429</td>\n",
       "      <td>31429</td>\n",
       "      <td>01 January 2019</td>\n",
       "      <td>2019</td>\n",
       "      <td>1</td>\n",
       "      <td>Explosions/Remote violence</td>\n",
       "      <td>Shelling/artillery/missile attack</td>\n",
       "      <td>Military Forces of Yemen (2016-) Supreme Polit...</td>\n",
       "      <td>...</td>\n",
       "      <td>At Tuhayta</td>\n",
       "      <td>14.1836</td>\n",
       "      <td>43.2264</td>\n",
       "      <td>2</td>\n",
       "      <td>Al Amaliqah</td>\n",
       "      <td>Subnational</td>\n",
       "      <td>On 01 January, pro-Houthi forces shelled civil...</td>\n",
       "      <td>0</td>\n",
       "      <td>1567462128</td>\n",
       "      <td>YEM</td>\n",
       "    </tr>\n",
       "    <tr>\n",
       "      <td>11437</td>\n",
       "      <td>5639624</td>\n",
       "      <td>887</td>\n",
       "      <td>YEM26991</td>\n",
       "      <td>26991</td>\n",
       "      <td>01 January 2019</td>\n",
       "      <td>2019</td>\n",
       "      <td>1</td>\n",
       "      <td>Explosions/Remote violence</td>\n",
       "      <td>Shelling/artillery/missile attack</td>\n",
       "      <td>National Resistance Forces</td>\n",
       "      <td>...</td>\n",
       "      <td>At Tuhayta</td>\n",
       "      <td>14.1836</td>\n",
       "      <td>43.2264</td>\n",
       "      <td>1</td>\n",
       "      <td>Ansar Allah</td>\n",
       "      <td>National</td>\n",
       "      <td>For the second consecutive day, anti-Houthi fo...</td>\n",
       "      <td>0</td>\n",
       "      <td>1563908684</td>\n",
       "      <td>YEM</td>\n",
       "    </tr>\n",
       "    <tr>\n",
       "      <td>11438</td>\n",
       "      <td>6127578</td>\n",
       "      <td>887</td>\n",
       "      <td>YEM27000</td>\n",
       "      <td>27000</td>\n",
       "      <td>01 January 2019</td>\n",
       "      <td>2019</td>\n",
       "      <td>1</td>\n",
       "      <td>Battles</td>\n",
       "      <td>Government regains territory</td>\n",
       "      <td>Military Forces of Yemen (2016-) Supreme Polit...</td>\n",
       "      <td>...</td>\n",
       "      <td>Jabal Abu an Nar</td>\n",
       "      <td>16.5258</td>\n",
       "      <td>43.1444</td>\n",
       "      <td>2</td>\n",
       "      <td>Twitter</td>\n",
       "      <td>New media</td>\n",
       "      <td>A day after they fired artillery at pro-Hadi f...</td>\n",
       "      <td>10</td>\n",
       "      <td>1571164643</td>\n",
       "      <td>YEM</td>\n",
       "    </tr>\n",
       "    <tr>\n",
       "      <td>11439</td>\n",
       "      <td>5639932</td>\n",
       "      <td>887</td>\n",
       "      <td>YEM27017</td>\n",
       "      <td>27017</td>\n",
       "      <td>01 January 2019</td>\n",
       "      <td>2019</td>\n",
       "      <td>1</td>\n",
       "      <td>Explosions/Remote violence</td>\n",
       "      <td>Remote explosive/landmine/IED</td>\n",
       "      <td>Unidentified Armed Group (Yemen)</td>\n",
       "      <td>...</td>\n",
       "      <td>Uqaqah</td>\n",
       "      <td>13.5693</td>\n",
       "      <td>43.9694</td>\n",
       "      <td>1</td>\n",
       "      <td>Al Nokhbah</td>\n",
       "      <td>National</td>\n",
       "      <td>A bomb an unknown origin reportedly exploded i...</td>\n",
       "      <td>0</td>\n",
       "      <td>1563908684</td>\n",
       "      <td>YEM</td>\n",
       "    </tr>\n",
       "  </tbody>\n",
       "</table>\n",
       "<p>5 rows × 31 columns</p>\n",
       "</div>"
      ],
      "text/plain": [
       "       data_id  iso event_id_cnty  event_id_no_cnty       event_date  year  \\\n",
       "11435  6456772  887      YEM26988             26988  01 January 2019  2019   \n",
       "11436  5745348  887      YEM31429             31429  01 January 2019  2019   \n",
       "11437  5639624  887      YEM26991             26991  01 January 2019  2019   \n",
       "11438  6127578  887      YEM27000             27000  01 January 2019  2019   \n",
       "11439  5639932  887      YEM27017             27017  01 January 2019  2019   \n",
       "\n",
       "       time_precision                  event_type  \\\n",
       "11435               1  Explosions/Remote violence   \n",
       "11436               1  Explosions/Remote violence   \n",
       "11437               1  Explosions/Remote violence   \n",
       "11438               1                     Battles   \n",
       "11439               1  Explosions/Remote violence   \n",
       "\n",
       "                          sub_event_type  \\\n",
       "11435  Shelling/artillery/missile attack   \n",
       "11436  Shelling/artillery/missile attack   \n",
       "11437  Shelling/artillery/missile attack   \n",
       "11438       Government regains territory   \n",
       "11439      Remote explosive/landmine/IED   \n",
       "\n",
       "                                                  actor1  ...  \\\n",
       "11435                         National Resistance Forces  ...   \n",
       "11436  Military Forces of Yemen (2016-) Supreme Polit...  ...   \n",
       "11437                         National Resistance Forces  ...   \n",
       "11438  Military Forces of Yemen (2016-) Supreme Polit...  ...   \n",
       "11439                   Unidentified Armed Group (Yemen)  ...   \n",
       "\n",
       "                    location  latitude longitude geo_precision  \\\n",
       "11435  Al Hudaydah-Street 90   14.8355   42.9781             1   \n",
       "11436             At Tuhayta   14.1836   43.2264             2   \n",
       "11437             At Tuhayta   14.1836   43.2264             1   \n",
       "11438       Jabal Abu an Nar   16.5258   43.1444             2   \n",
       "11439                 Uqaqah   13.5693   43.9694             1   \n",
       "\n",
       "                                source            source_scale  \\\n",
       "11435  Ansar Allah; Yemen Data Project  Local partner-National   \n",
       "11436                      Al Amaliqah             Subnational   \n",
       "11437                      Ansar Allah                National   \n",
       "11438                          Twitter               New media   \n",
       "11439                       Al Nokhbah                National   \n",
       "\n",
       "                                                   notes fatalities  \\\n",
       "11435  For the third consecutive day, anti-Houthi for...          0   \n",
       "11436  On 01 January, pro-Houthi forces shelled civil...          0   \n",
       "11437  For the second consecutive day, anti-Houthi fo...          0   \n",
       "11438  A day after they fired artillery at pro-Hadi f...         10   \n",
       "11439  A bomb an unknown origin reportedly exploded i...          0   \n",
       "\n",
       "        timestamp iso3  \n",
       "11435  1576530953  YEM  \n",
       "11436  1567462128  YEM  \n",
       "11437  1563908684  YEM  \n",
       "11438  1571164643  YEM  \n",
       "11439  1563908684  YEM  \n",
       "\n",
       "[5 rows x 31 columns]"
      ]
     },
     "execution_count": 9,
     "metadata": {},
     "output_type": "execute_result"
    }
   ],
   "source": [
    "df.tail()"
   ]
  },
  {
   "cell_type": "code",
   "execution_count": 26,
   "metadata": {},
   "outputs": [
    {
     "data": {
      "text/plain": [
       "25882"
      ]
     },
     "execution_count": 26,
     "metadata": {},
     "output_type": "execute_result"
    }
   ],
   "source": [
    "df.fatalities.sum()"
   ]
  },
  {
   "cell_type": "markdown",
   "metadata": {},
   "source": [
    "# Assignment 1 - Understand the data\n",
    "\n",
    "The dataset contains information about conflict activities in Yemen over the 2019 calendar year.  It includes 11,440 entries of different incidents, with 31 columns that provide information on time, location, type, actor, and fatalities (as well as source of info and its credibility), mostly from public media sources.  The majority of columns are complete, except some columns pertaining to different actors (in particular, associated conflict actors and targets [including civilians], as well as the sub-district level of location data). They list 25,882 mortalities in the Yemen conflict over 2019.  It provides a comprehensive overview of conflict patterns in Yemen over one year, and so could inform ICRC's protection strategy for Yemen.  As the source of data depends upon media, it may not provide conflict information regarding hard-to-reach areas where media sources have little coverage, or the full range of protection violations that ICRC may be concerned with, such as detention practices or abuses within these incidents.  It also does not disaggregate between civilian and combatant casualties in a specific incident, but does mark attacks which appear to be perpetrated directly against Yemeni civilians.\n"
   ]
  },
  {
   "cell_type": "markdown",
   "metadata": {},
   "source": [
    "# Assignment 2 - Analytical options\n",
    "\n",
    "Based upon my understanding of the ICRC's mandate and activities, as well as the ACLED data set, please find below three options of operationally useful analytical options:\n",
    "\n",
    "- Identify seasonal trends of conflict data using time series analysis. This may highlight peak and low periods of conflict and help schedule protection activities and strategies around.\n",
    "- Identify the main perpetrators, geographies, and modes of armed conflict violence in Yemen, by fatality, to suggest priorities of protection communication/diplomacy/engagement efforts\n",
    "- Explore trends of civilian casualties from armed conflict in Yemen, particularly by analysing attacks directly targeting civilians"
   ]
  },
  {
   "cell_type": "markdown",
   "metadata": {},
   "source": [
    "# Assignment 3 - Carry out analysis\n",
    "\n",
    "The section below is code pertaining to the second analytical output mentioned above, in Assignment 2, i.e. identifying the most deadly perpetrators and modes of conflict.\n",
    "\n",
    "A separate presentation is included in the folder, to explain the output."
   ]
  },
  {
   "cell_type": "code",
   "execution_count": 10,
   "metadata": {},
   "outputs": [],
   "source": [
    "#convert dates to time-series data types\n",
    "df['event_date'] = pd.to_datetime(df['event_date'])"
   ]
  },
  {
   "cell_type": "code",
   "execution_count": 11,
   "metadata": {},
   "outputs": [
    {
     "data": {
      "text/plain": [
       "Al Hudaydah         4128\n",
       "Sadah               1605\n",
       "Ad Dali             1025\n",
       "Hajjah               860\n",
       "Taizz                852\n",
       "Al Jawf              615\n",
       "Aden                 456\n",
       "Al Bayda             364\n",
       "Abyan                243\n",
       "Shabwah              236\n",
       "Sanaa                202\n",
       "Marib                200\n",
       "Amanat al Asimah     133\n",
       "Ibb                  111\n",
       "Hadramawt            109\n",
       "Lahij                101\n",
       "Amran                 49\n",
       "Al Mahrah             49\n",
       "Suqutra               48\n",
       "Dhamar                38\n",
       "Raymah                 9\n",
       "Al Mahwit              7\n",
       "Name: admin1, dtype: int64"
      ]
     },
     "execution_count": 11,
     "metadata": {},
     "output_type": "execute_result"
    }
   ],
   "source": [
    "#understand the prevalence of incidents by governorate\n",
    "df.admin1.value_counts()"
   ]
  },
  {
   "cell_type": "code",
   "execution_count": 12,
   "metadata": {},
   "outputs": [
    {
     "data": {
      "text/plain": [
       "admin1\n",
       "Sadah               5681\n",
       "Ad Dali             4023\n",
       "Al Jawf             3954\n",
       "Hajjah              3346\n",
       "Taizz               2922\n",
       "Al Hudaydah         1659\n",
       "Al Bayda            1152\n",
       "Marib                933\n",
       "Sanaa                596\n",
       "Abyan                364\n",
       "Aden                 301\n",
       "Shabwah              258\n",
       "Lahij                204\n",
       "Dhamar               173\n",
       "Ibb                  157\n",
       "Amran                 58\n",
       "Hadramawt             53\n",
       "Amanat al Asimah      41\n",
       "Al Mahrah              5\n",
       "Al Mahwit              1\n",
       "Raymah                 1\n",
       "Suqutra                0\n",
       "Name: fatalities, dtype: int64"
      ]
     },
     "execution_count": 12,
     "metadata": {},
     "output_type": "execute_result"
    }
   ],
   "source": [
    "#understand the 'distribution' of fatalities by governorate\n",
    "df.groupby('admin1').fatalities.sum().sort_values(ascending=False)"
   ]
  },
  {
   "cell_type": "code",
   "execution_count": 13,
   "metadata": {},
   "outputs": [
    {
     "data": {
      "image/png": "[encoded data removed]",
      "text/plain": [
       "<Figure size 1080x1080 with 1 Axes>"
      ]
     },
     "metadata": {
      "needs_background": "light"
     },
     "output_type": "display_data"
    }
   ],
   "source": [
    "#display as a horizontal bar chart\n",
    "df.groupby('admin1').fatalities.sum().sort_values(ascending=True).plot(kind='barh', figsize=(15,15));"
   ]
  },
  {
   "cell_type": "code",
   "execution_count": 14,
   "metadata": {},
   "outputs": [
    {
     "data": {
      "text/plain": [
       "Shelling/artillery/missile attack      4181\n",
       "Armed clash                            3097\n",
       "Air/drone strike                       1260\n",
       "Remote explosive/landmine/IED           619\n",
       "Attack                                  464\n",
       "Change to group/activity                462\n",
       "Government regains territory            365\n",
       "Peaceful protest                        351\n",
       "Disrupted weapons use                   170\n",
       "Looting/property destruction            117\n",
       "Abduction/forced disappearance           63\n",
       "Other                                    52\n",
       "Non-state actor overtakes territory      45\n",
       "Non-violent transfer of territory        45\n",
       "Arrests                                  38\n",
       "Violent demonstration                    32\n",
       "Agreement                                23\n",
       "Grenade                                  20\n",
       "Excessive force against protesters       16\n",
       "Headquarters or base established          7\n",
       "Suicide bomb                              5\n",
       "Mob violence                              4\n",
       "Protest with intervention                 4\n",
       "Name: sub_event_type, dtype: int64"
      ]
     },
     "execution_count": 14,
     "metadata": {},
     "output_type": "execute_result"
    }
   ],
   "source": [
    "#understand the proportion of conflict incidents by type (typology from ACLED dataset codebook)\n",
    "df.sub_event_type.value_counts()"
   ]
  },
  {
   "cell_type": "code",
   "execution_count": 15,
   "metadata": {},
   "outputs": [
    {
     "data": {
      "text/plain": [
       "sub_event_type\n",
       "Armed clash                            13875\n",
       "Shelling/artillery/missile attack       4082\n",
       "Remote explosive/landmine/IED           2882\n",
       "Air/drone strike                        2662\n",
       "Government regains territory            1659\n",
       "Attack                                   330\n",
       "Disrupted weapons use                    173\n",
       "Non-state actor overtakes territory      159\n",
       "Suicide bomb                              36\n",
       "Excessive force against protesters        12\n",
       "Grenade                                    9\n",
       "Violent demonstration                      3\n",
       "Agreement                                  0\n",
       "Arrests                                    0\n",
       "Change to group/activity                   0\n",
       "Headquarters or base established           0\n",
       "Looting/property destruction               0\n",
       "Mob violence                               0\n",
       "Non-violent transfer of territory          0\n",
       "Other                                      0\n",
       "Peaceful protest                           0\n",
       "Protest with intervention                  0\n",
       "Abduction/forced disappearance             0\n",
       "Name: fatalities, dtype: int64"
      ]
     },
     "execution_count": 15,
     "metadata": {},
     "output_type": "execute_result"
    }
   ],
   "source": [
    "#understand the 'distribution' of fatalities by conflict incident type\n",
    "df.groupby('sub_event_type').fatalities.sum().sort_values(ascending=False)"
   ]
  },
  {
   "cell_type": "code",
   "execution_count": 16,
   "metadata": {},
   "outputs": [
    {
     "data": {
      "image/png": "[encoded data removed]",
      "text/plain": [
       "<Figure size 720x360 with 1 Axes>"
      ]
     },
     "metadata": {
      "needs_background": "light"
     },
     "output_type": "display_data"
    }
   ],
   "source": [
    "#display as a horizontal bar chart\n",
    "df.sub_event_type.value_counts().plot(kind='barh', figsize=(10,5));"
   ]
  },
  {
   "cell_type": "code",
   "execution_count": 17,
   "metadata": {},
   "outputs": [
    {
     "data": {
      "image/png": "[encoded data removed]",
      "text/plain": [
       "<Figure size 720x360 with 1 Axes>"
      ]
     },
     "metadata": {
      "needs_background": "light"
     },
     "output_type": "display_data"
    }
   ],
   "source": [
    "df.groupby('sub_event_type').fatalities.sum().sort_values(ascending=False).plot(kind='barh', figsize=(10,5));"
   ]
  },
  {
   "cell_type": "code",
   "execution_count": 18,
   "metadata": {},
   "outputs": [
    {
     "data": {
      "text/plain": [
       "Military Forces of Yemen (2016-) Supreme Political Council                                                                   4548\n",
       "National Resistance Forces                                                                                                   2159\n",
       "Operation Restoring Hope                                                                                                     1743\n",
       "Military Forces of Yemen (2012-)                                                                                             1191\n",
       "Unidentified Armed Group (Yemen)                                                                                              375\n",
       "                                                                                                                             ... \n",
       "Bani Nawf Tribal Militia (Yemen)                                                                                                1\n",
       "Sadah Tribal Militia (Yemen)                                                                                                    1\n",
       "Al Saleh Tribal Militia (Yemen)                                                                                                 1\n",
       "Military Forces of Yemen (2012-) Hadarim Brigade                                                                                1\n",
       "Military Forces of Yemen (2012-) 30th Brigade; Military Forces of Yemen (2012-) Security Belt Forces; Southern Resistance       1\n",
       "Name: actor1, Length: 105, dtype: int64"
      ]
     },
     "execution_count": 18,
     "metadata": {},
     "output_type": "execute_result"
    }
   ],
   "source": [
    "df.actor1.value_counts()"
   ]
  },
  {
   "cell_type": "code",
   "execution_count": 25,
   "metadata": {},
   "outputs": [
    {
     "data": {
      "text/plain": [
       "actor1\n",
       "Military Forces of Yemen (2016-) Supreme Political Council    14612\n",
       "Military Forces of Yemen (2012-)                               5155\n",
       "Operation Restoring Hope                                       2594\n",
       "National Resistance Forces                                     1198\n",
       "Military Forces of Yemen (2012-) Security Belt Forces           367\n",
       "                                                              ...  \n",
       "Imran Tribal Militia (Yemen)                                      0\n",
       "Government of Yemen (2016-) Supreme Political Council             0\n",
       "Government of Yemen (2012-)                                       0\n",
       "Damashqa Tribal Militia (Yemen)                                   0\n",
       "Military Forces of Yemen (2012-) Amajid Brigade                   0\n",
       "Name: fatalities, Length: 105, dtype: int64"
      ]
     },
     "execution_count": 25,
     "metadata": {},
     "output_type": "execute_result"
    }
   ],
   "source": [
    "df.groupby('actor1').fatalities.sum().sort_values(ascending=False)"
   ]
  },
  {
   "cell_type": "code",
   "execution_count": 19,
   "metadata": {},
   "outputs": [
    {
     "data": {
      "image/png": "[encoded data removed]",
      "text/plain": [
       "<Figure size 720x360 with 1 Axes>"
      ]
     },
     "metadata": {
      "needs_background": "light"
     },
     "output_type": "display_data"
    }
   ],
   "source": [
    "df.groupby('actor1').fatalities.sum().sort_values(ascending=False).head(15).plot(kind='barh', figsize=(10,5));"
   ]
  },
  {
   "cell_type": "code",
   "execution_count": 20,
   "metadata": {},
   "outputs": [
    {
     "data": {
      "text/plain": [
       "Military Forces of Yemen (2012-)                              1963\n",
       "Military Forces of Yemen (2016-) Supreme Political Council    1936\n",
       "Civilians (Yemen)                                             1265\n",
       "National Resistance Forces                                    1144\n",
       "Military Forces of Yemen (2012-) Security Belt Forces          131\n",
       "                                                              ... \n",
       "Al Shabwani Tribal Militia (Yemen)                               1\n",
       "Muhrabi Tribal Militia (Yemen)                                   1\n",
       "Police Forces of Yemen (2012-) Prison Guards                     1\n",
       "Al Laqmush Tribal Militia (Yemen)                                1\n",
       "Dhu Yahyah Tribal Militia (Yemen)                                1\n",
       "Name: actor2, Length: 99, dtype: int64"
      ]
     },
     "execution_count": 20,
     "metadata": {},
     "output_type": "execute_result"
    }
   ],
   "source": [
    "df.actor2.value_counts()"
   ]
  },
  {
   "cell_type": "code",
   "execution_count": 28,
   "metadata": {},
   "outputs": [
    {
     "data": {
      "text/plain": [
       "actor2\n",
       "Military Forces of Yemen (2012-)                              12801\n",
       "Military Forces of Yemen (2016-) Supreme Political Council     9206\n",
       "Civilians (Yemen)                                              1212\n",
       "National Resistance Forces                                      342\n",
       "Operation Restoring Hope                                        333\n",
       "                                                              ...  \n",
       "Baqtiyan Tribal Militia (Yemen)                                   0\n",
       "Protesters (Yemen)                                                0\n",
       "Bani Najm ad Din Tribal Militia (Yemen)                           0\n",
       "As Sawraqi Clan Tribal Militia (Yemen) Abduh Faction              0\n",
       "Military Forces of Yemen (2012-) 170th Air Defence Brigade        0\n",
       "Name: fatalities, Length: 99, dtype: int64"
      ]
     },
     "execution_count": 28,
     "metadata": {},
     "output_type": "execute_result"
    }
   ],
   "source": [
    "df.groupby('actor2').fatalities.sum().sort_values(ascending=False)"
   ]
  },
  {
   "cell_type": "code",
   "execution_count": 21,
   "metadata": {},
   "outputs": [
    {
     "data": {
      "image/png": "[encoded data removed]",
      "text/plain": [
       "<Figure size 720x360 with 1 Axes>"
      ]
     },
     "metadata": {
      "needs_background": "light"
     },
     "output_type": "display_data"
    }
   ],
   "source": [
    "df.groupby('actor2').fatalities.sum().sort_values(ascending=False).head(15).plot(kind='barh', figsize=(10,5));"
   ]
  },
  {
   "cell_type": "markdown",
   "metadata": {},
   "source": [
    "## "
   ]
  }
 ],
 "metadata": {
  "kernelspec": {
   "display_name": "Python 3",
   "language": "python",
   "name": "python3"
  },
  "language_info": {
   "codemirror_mode": {
    "name": "ipython",
    "version": 3
   },
   "file_extension": ".py",
   "mimetype": "text/x-python",
   "name": "python",
   "nbconvert_exporter": "python",
   "pygments_lexer": "ipython3",
   "version": "3.7.4"
  }
 },
 "nbformat": 4,
 "nbformat_minor": 2
}
